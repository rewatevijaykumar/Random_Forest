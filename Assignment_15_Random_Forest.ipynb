{
  "nbformat": 4,
  "nbformat_minor": 0,
  "metadata": {
    "colab": {
      "name": "Assignment-15-Random-Forest.ipynb",
      "provenance": [],
      "collapsed_sections": [],
      "authorship_tag": "ABX9TyOP8FTGXuOhq4r/ULS0ApPh"
    },
    "kernelspec": {
      "name": "python3",
      "display_name": "Python 3"
    },
    "language_info": {
      "name": "python"
    }
  },
  "cells": [
    {
      "cell_type": "markdown",
      "metadata": {
        "id": "svXLaqfQgq2a"
      },
      "source": [
        "#Assignment-15-Random-Forest"
      ]
    },
    {
      "cell_type": "markdown",
      "metadata": {
        "id": "1GdvtMdyg17s"
      },
      "source": [
        "#Use Random Forest to prepare a model on fraud data \n",
        "treating those who have taxable_income <= 30000 as \"Risky\" and others are \"Good\""
      ]
    },
    {
      "cell_type": "code",
      "metadata": {
        "id": "klvI4EL_y423"
      },
      "source": [
        "import numpy as np\n",
        "import pandas as pd\n",
        "import matplotlib.pyplot as plt\n",
        "from sklearn.ensemble import RandomForestClassifier\n",
        "from sklearn.model_selection import train_test_split"
      ],
      "execution_count": null,
      "outputs": []
    },
    {
      "cell_type": "code",
      "metadata": {
        "id": "BmktVuTTzMh7"
      },
      "source": [
        "df=pd.read_csv(\"Fraud_check.csv\")"
      ],
      "execution_count": null,
      "outputs": []
    },
    {
      "cell_type": "code",
      "metadata": {
        "id": "HWB_IVxVzMkp"
      },
      "source": [
        "df=df.rename(columns={'Taxable.Income':'Tax','Marital.Status':'Status','City.Population':'Population','Work.Experience':'Exp'})"
      ],
      "execution_count": null,
      "outputs": []
    },
    {
      "cell_type": "code",
      "metadata": {
        "id": "MujzX9tezMn8"
      },
      "source": [
        "df.loc[df.Tax<=30000,'Tax']='Risk'\n",
        "df.loc[df.Tax != 'Risk','Tax'] ='Good'"
      ],
      "execution_count": null,
      "outputs": []
    },
    {
      "cell_type": "code",
      "metadata": {
        "id": "9vK4wD-jzMqi"
      },
      "source": [
        "df=df.iloc[:,[2,0,1,3,4,5]]\n",
        "df=pd.get_dummies(df,columns=['Undergrad','Status','Urban'],drop_first=True)"
      ],
      "execution_count": null,
      "outputs": []
    },
    {
      "cell_type": "code",
      "metadata": {
        "id": "T2YPSVMRzM1H"
      },
      "source": [
        "train,test=train_test_split(df,test_size=0.3)"
      ],
      "execution_count": null,
      "outputs": []
    },
    {
      "cell_type": "code",
      "metadata": {
        "colab": {
          "base_uri": "https://localhost:8080/"
        },
        "id": "MOIGN_7izM3m",
        "outputId": "7012a253-e49d-4374-8f39-48929ca35acd"
      },
      "source": [
        "model=RandomForestClassifier(n_estimators=100)\n",
        "model.fit(train.iloc[:,1:7],train.iloc[:,0])"
      ],
      "execution_count": null,
      "outputs": [
        {
          "output_type": "execute_result",
          "data": {
            "text/plain": [
              "RandomForestClassifier(bootstrap=True, ccp_alpha=0.0, class_weight=None,\n",
              "                       criterion='gini', max_depth=None, max_features='auto',\n",
              "                       max_leaf_nodes=None, max_samples=None,\n",
              "                       min_impurity_decrease=0.0, min_impurity_split=None,\n",
              "                       min_samples_leaf=1, min_samples_split=2,\n",
              "                       min_weight_fraction_leaf=0.0, n_estimators=100,\n",
              "                       n_jobs=None, oob_score=False, random_state=None,\n",
              "                       verbose=0, warm_start=False)"
            ]
          },
          "metadata": {
            "tags": []
          },
          "execution_count": 7
        }
      ]
    },
    {
      "cell_type": "code",
      "metadata": {
        "id": "i85wpoyWzM6Z"
      },
      "source": [
        "#Train test accuracy\n",
        "\n",
        "train_acc=np.mean(model.predict(train.iloc[:,1:7])==train.iloc[:,0])\n",
        "test_acc=np.mean(model.predict(test.iloc[:,1:7])==test.iloc[:,0])"
      ],
      "execution_count": null,
      "outputs": []
    },
    {
      "cell_type": "code",
      "metadata": {
        "id": "5SEvOLMW0MK4"
      },
      "source": [
        "acc=[]\n",
        "for i in range(100,200,2):\n",
        "    clf = RandomForestClassifier(n_estimators=100)\n",
        "    clf.fit(train.iloc[:,1:7],train.iloc[:,0])\n",
        "    train_acc = np.mean(clf.predict(train.iloc[:,1:7])==train.iloc[:,0])\n",
        "    test_acc = np.mean(clf.predict(test.iloc[:,1:7])==test.iloc[:,0])\n",
        "    acc.append([train_acc,test_acc])"
      ],
      "execution_count": null,
      "outputs": []
    },
    {
      "cell_type": "code",
      "metadata": {
        "id": "qvPnwT0R0MTC"
      },
      "source": [
        "import matplotlib.pyplot as plt # library to do visualizations "
      ],
      "execution_count": null,
      "outputs": []
    },
    {
      "cell_type": "code",
      "metadata": {
        "colab": {
          "base_uri": "https://localhost:8080/",
          "height": 282
        },
        "id": "DQ4YABgp0MWd",
        "outputId": "36df28fa-deba-4aa4-c41b-6ecc76211e2e"
      },
      "source": [
        "# train accuracy plot \n",
        "plt.plot(np.arange(100,200,2),[i[0] for i in acc],\"ro-\")"
      ],
      "execution_count": null,
      "outputs": [
        {
          "output_type": "execute_result",
          "data": {
            "text/plain": [
              "[<matplotlib.lines.Line2D at 0x7fabefa81d90>]"
            ]
          },
          "metadata": {
            "tags": []
          },
          "execution_count": 11
        },
        {
          "output_type": "display_data",
          "data": {
            "image/png": "[encoded data removed]",
            "text/plain": [
              "<Figure size 432x288 with 1 Axes>"
            ]
          },
          "metadata": {
            "tags": [],
            "needs_background": "light"
          }
        }
      ]
    },
    {
      "cell_type": "code",
      "metadata": {
        "colab": {
          "base_uri": "https://localhost:8080/",
          "height": 282
        },
        "id": "he77odnv0MZk",
        "outputId": "55224b50-a6c9-4ffd-b48d-51632a1f9f1e"
      },
      "source": [
        "# test accuracy plot\n",
        "plt.plot(np.arange(100,200,2),[i[1] for i in acc],\"bo-\")"
      ],
      "execution_count": null,
      "outputs": [
        {
          "output_type": "execute_result",
          "data": {
            "text/plain": [
              "[<matplotlib.lines.Line2D at 0x7fabef5d3290>]"
            ]
          },
          "metadata": {
            "tags": []
          },
          "execution_count": 12
        },
        {
          "output_type": "display_data",
          "data": {
            "image/png": "[encoded data removed]",
            "text/plain": [
              "<Figure size 432x288 with 1 Axes>"
            ]
          },
          "metadata": {
            "tags": [],
            "needs_background": "light"
          }
        }
      ]
    },
    {
      "cell_type": "code",
      "metadata": {
        "colab": {
          "base_uri": "https://localhost:8080/",
          "height": 286
        },
        "id": "qSde4g4n0yPB",
        "outputId": "7782fc1e-c009-404c-d477-6197bcc0195f"
      },
      "source": [
        "plt.legend([\"train\",\"test\"])"
      ],
      "execution_count": null,
      "outputs": [
        {
          "output_type": "execute_result",
          "data": {
            "text/plain": [
              "<matplotlib.legend.Legend at 0x7fac07640510>"
            ]
          },
          "metadata": {
            "tags": []
          },
          "execution_count": 13
        },
        {
          "output_type": "display_data",
          "data": {
            "image/png": "[encoded data removed]",
            "text/plain": [
              "<Figure size 432x288 with 1 Axes>"
            ]
          },
          "metadata": {
            "tags": [],
            "needs_background": "light"
          }
        }
      ]
    },
    {
      "cell_type": "markdown",
      "metadata": {
        "id": "3Llxg57phQA4"
      },
      "source": [
        "\n",
        "\n",
        "---\n",
        "\n"
      ]
    },
    {
      "cell_type": "markdown",
      "metadata": {
        "id": "lcR8-cZEhQMD"
      },
      "source": [
        "\n",
        "#Let’s consider a Company dataset with around 10 variables and 400 records. \n",
        "The attributes are as follows: \n",
        " Sales -- Unit sales (in thousands) at each location\n",
        " Competitor Price -- Price charged by competitor at each location\n",
        " Income -- Community income level (in thousands of dollars)\n",
        " Advertising -- Local advertising budget for company at each location (in thousands of dollars)\n",
        " Population -- Population size in region (in thousands)\n",
        " Price -- Price company charges for car seats at each site\n",
        " Shelf Location at stores -- A factor with levels Bad, Good and Medium indicating the quality of the shelving location for the car seats at each site\n",
        " Age -- Average age of the local population\n",
        " Education -- Education level at each location\n",
        " Urban -- A factor with levels No and Yes to indicate whether the store is in an urban or rural location\n",
        " US -- A factor with levels No and Yes to indicate whether the store is in the US or not\n",
        "The company dataset looks like this: \n",
        " \n",
        "Problem Statement:\n",
        "A cloth manufacturing company is interested to know about the segment or attributes causes high sale. \n",
        "Approach - A Random Forest can be built with target variable Sales (we will first convert it in categorical variable) & all other variable will be independent in the analysis. "
      ]
    },
    {
      "cell_type": "code",
      "metadata": {
        "id": "plN3q7Iyhofg"
      },
      "source": [
        "import pandas as pd\n",
        "import matplotlib.pyplot as plt\n",
        "import numpy as np\n",
        "from sklearn.ensemble import RandomForestClassifier\n",
        "from sklearn.model_selection import train_test_split"
      ],
      "execution_count": null,
      "outputs": []
    },
    {
      "cell_type": "code",
      "metadata": {
        "id": "hW43jbAjhoiG"
      },
      "source": [
        "df=pd.read_csv(\"Company_Data.csv\")"
      ],
      "execution_count": null,
      "outputs": []
    },
    {
      "cell_type": "code",
      "metadata": {
        "id": "iFSDXjEEholM"
      },
      "source": [
        "df=pd.get_dummies(df,columns=['ShelveLoc','Urban','US'],drop_first=True)"
      ],
      "execution_count": null,
      "outputs": []
    },
    {
      "cell_type": "code",
      "metadata": {
        "id": "XumTXW3Ehon1"
      },
      "source": [
        "df.loc[df.Sales<=10,'Sales']='No'"
      ],
      "execution_count": null,
      "outputs": []
    },
    {
      "cell_type": "code",
      "metadata": {
        "id": "wBJBzyXnhoqo"
      },
      "source": [
        "df.loc[df.Sales !='No','Sales']='Yes'"
      ],
      "execution_count": null,
      "outputs": []
    },
    {
      "cell_type": "code",
      "metadata": {
        "id": "Gg1W2KY8hoth"
      },
      "source": [
        "train,test=train_test_split(df,test_size=0.3)"
      ],
      "execution_count": null,
      "outputs": []
    },
    {
      "cell_type": "code",
      "metadata": {
        "colab": {
          "base_uri": "https://localhost:8080/"
        },
        "id": "UClqmBW0howy",
        "outputId": "3bbde488-55c9-4fcd-ea12-6b28960fa3db"
      },
      "source": [
        "model=RandomForestClassifier(n_estimators=100)\n",
        "model.fit(train.iloc[:,1:12],train.iloc[:,0])"
      ],
      "execution_count": null,
      "outputs": [
        {
          "output_type": "execute_result",
          "data": {
            "text/plain": [
              "RandomForestClassifier(bootstrap=True, ccp_alpha=0.0, class_weight=None,\n",
              "                       criterion='gini', max_depth=None, max_features='auto',\n",
              "                       max_leaf_nodes=None, max_samples=None,\n",
              "                       min_impurity_decrease=0.0, min_impurity_split=None,\n",
              "                       min_samples_leaf=1, min_samples_split=2,\n",
              "                       min_weight_fraction_leaf=0.0, n_estimators=100,\n",
              "                       n_jobs=None, oob_score=False, random_state=None,\n",
              "                       verbose=0, warm_start=False)"
            ]
          },
          "metadata": {
            "tags": []
          },
          "execution_count": 20
        }
      ]
    },
    {
      "cell_type": "code",
      "metadata": {
        "id": "YsFn19irhozO"
      },
      "source": [
        "#To find train and test accuracy\n",
        "train_acc=np.mean(model.predict(train.iloc[:,1:12])==train.iloc[:,0])\n",
        "test_acc=np.mean(model.predict(test.iloc[:,1:12])==test.iloc[:,0])"
      ],
      "execution_count": null,
      "outputs": []
    },
    {
      "cell_type": "code",
      "metadata": {
        "id": "yJzRTux-lHsr"
      },
      "source": [
        "acc=[]"
      ],
      "execution_count": null,
      "outputs": []
    },
    {
      "cell_type": "code",
      "metadata": {
        "id": "u0q558PdlHvg"
      },
      "source": [
        "for i in range(100,200,2):\n",
        "    model=RandomForestClassifier(n_estimators=i)\n",
        "    model.fit(train.iloc[:,1:12],train.iloc[:,0])\n",
        "    train_acc=np.mean(model.predict(train.iloc[:,1:12])==train.iloc[:,0])\n",
        "    test_acc=np.mean(model.predict(test.iloc[:,1:12])==test.iloc[:,0])\n",
        "    acc.append([train_acc,test_acc])"
      ],
      "execution_count": null,
      "outputs": []
    },
    {
      "cell_type": "code",
      "metadata": {
        "id": "0SIUasGGlHys"
      },
      "source": [
        "#library to do visualizations \n",
        "import matplotlib.pyplot as plt "
      ],
      "execution_count": null,
      "outputs": []
    },
    {
      "cell_type": "code",
      "metadata": {
        "colab": {
          "base_uri": "https://localhost:8080/",
          "height": 282
        },
        "id": "l233ItcblPia",
        "outputId": "aef64e98-3c07-4951-fc89-ad73cbf6514a"
      },
      "source": [
        "# train accuracy plot \n",
        "plt.plot(np.arange(100,200,2),[i[0] for i in acc],\"ro-\")"
      ],
      "execution_count": null,
      "outputs": [
        {
          "output_type": "execute_result",
          "data": {
            "text/plain": [
              "[<matplotlib.lines.Line2D at 0x7fabef3c8bd0>]"
            ]
          },
          "metadata": {
            "tags": []
          },
          "execution_count": 27
        },
        {
          "output_type": "display_data",
          "data": {
            "image/png": "[encoded data removed]",
            "text/plain": [
              "<Figure size 432x288 with 1 Axes>"
            ]
          },
          "metadata": {
            "tags": [],
            "needs_background": "light"
          }
        }
      ]
    },
    {
      "cell_type": "code",
      "metadata": {
        "colab": {
          "base_uri": "https://localhost:8080/",
          "height": 284
        },
        "id": "FkQSiQ64lPk1",
        "outputId": "4b5a0cfd-617f-4680-dc8a-90bc633877ee"
      },
      "source": [
        "# test accuracy plot\n",
        "plt.plot(np.arange(100,200,2),[i[1] for i in acc],\"bo-\")"
      ],
      "execution_count": null,
      "outputs": [
        {
          "output_type": "execute_result",
          "data": {
            "text/plain": [
              "[<matplotlib.lines.Line2D at 0x7fabef3a2a50>]"
            ]
          },
          "metadata": {
            "tags": []
          },
          "execution_count": 28
        },
        {
          "output_type": "display_data",
          "data": {
            "image/png": "[encoded data removed]",
            "text/plain": [
              "<Figure size 432x288 with 1 Axes>"
            ]
          },
          "metadata": {
            "tags": [],
            "needs_background": "light"
          }
        }
      ]
    },
    {
      "cell_type": "code",
      "metadata": {
        "id": "w4uTU13rmtvP"
      },
      "source": [
        ""
      ],
      "execution_count": null,
      "outputs": []
    }
  ]
}